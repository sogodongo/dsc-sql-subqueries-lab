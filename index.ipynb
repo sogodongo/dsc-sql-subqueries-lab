{
 "cells": [
  {
   "cell_type": "markdown",
   "metadata": {},
   "source": [
    "# SQL Subqueries - Lab\n",
    "\n",
    "## Introduction\n",
    "\n",
    "Now that you've seen how subqueries work, it's time to get some practice writing them! Not all of the queries will require subqueries, but all will be a bit more complex and require some thought and review about aggregates, grouping, ordering, filtering, joins and subqueries. Good luck!  \n",
    "\n",
    "## Objectives\n",
    "\n",
    "You will be able to:\n",
    "\n",
    "* Write subqueries to decompose complex queries\n",
    "\n",
    "## CRM Database ERD\n",
    "\n",
    "Once again, here's the schema for the CRM database you'll continue to practice with.\n",
    "\n",
    "<img src=\"images/Database-Schema.png\" width=\"600\">\n",
    "\n",
    "## Connect to the Database\n",
    "\n",
    "As usual, start by importing the necessary packages and connecting to the database `data.sqlite`."
   ]
  },
  {
   "cell_type": "code",
   "execution_count": 1,
   "metadata": {},
   "outputs": [],
   "source": [
    "import pandas as pd\n",
    "import sqlite3\n"
   ]
  },
  {
   "cell_type": "code",
   "execution_count": 2,
   "metadata": {
    "scrolled": true
   },
   "outputs": [],
   "source": [
    "conn=sqlite3.connect(\"data.sqlite\")"
   ]
  },
  {
   "cell_type": "markdown",
   "metadata": {},
   "source": [
    "## Write an Equivalent Query using a Subquery\n",
    "\n",
    "The following query works using a `JOIN`. Rewrite it so that it uses a subquery instead.\n",
    "\n",
    "```\n",
    "SELECT\n",
    "    customerNumber,\n",
    "    contactLastName,\n",
    "    contactFirstName\n",
    "FROM customers\n",
    "JOIN orders \n",
    "    USING(customerNumber)\n",
    "WHERE orderDate = '2003-01-31'\n",
    ";\n",
    "```"
   ]
  },
  {
   "cell_type": "code",
   "execution_count": 3,
   "metadata": {},
   "outputs": [],
   "source": [
    "query=(\"\"\" SELECT\n",
    "customerNumber,\n",
    "contactLastName,\n",
    "contactFirstName\n",
    "FROM customers\n",
    "WHERE customerNumber IN (\n",
    "SELECT customerNumber\n",
    "FROM orders\n",
    "WHERE orderDate = '2003-01-31'\n",
    ");\"\"\",conn)"
   ]
  },
  {
   "cell_type": "markdown",
   "metadata": {},
   "source": [
    "## Select the Total Number of Orders for Each Product Name\n",
    "\n",
    "Sort the results by the total number of items sold for that product."
   ]
  },
  {
   "cell_type": "code",
   "execution_count": 4,
   "metadata": {},
   "outputs": [
    {
     "name": "stdout",
     "output_type": "stream",
     "text": [
      "   customerNumber contactLastName contactFirstName\n",
      "0             141          Freyre           Diego \n"
     ]
    }
   ],
   "source": [
    "query = \"\"\"\n",
    "SELECT\n",
    "customerNumber,\n",
    "contactLastName,\n",
    "contactFirstName\n",
    "FROM\n",
    "customers\n",
    "WHERE\n",
    "customerNumber IN (\n",
    "SELECT customerNumber\n",
    "FROM orders\n",
    "WHERE orderDate = '2003-01-31'\n",
    ")\n",
    "\"\"\"\n",
    "\n",
    "\n",
    "results = pd.read_sql_query(query, conn)\n",
    "\n",
    "print(results)\n"
   ]
  },
  {
   "cell_type": "markdown",
   "metadata": {},
   "source": [
    "## Select the Product Name and the  Total Number of People Who Have Ordered Each Product\n",
    "\n",
    "Sort the results in descending order."
   ]
  },
  {
   "cell_type": "markdown",
   "metadata": {},
   "source": [
    "### A quick note on the SQL  `SELECT DISTINCT` statement:"
   ]
  },
  {
   "cell_type": "markdown",
   "metadata": {},
   "source": [
    "The `SELECT DISTINCT` statement is used to return only distinct values in the specified column. In other words, it removes the duplicate values in the column from the result set.\n",
    "\n",
    "Inside a table, a column often contains many duplicate values; and sometimes you only want to list the unique values. If you apply the `DISTINCT` clause to a column that has `NULL`, the `DISTINCT` clause will keep only one NULL and eliminates the other. In other words, the DISTINCT clause treats all `NULL` “values” as the same value."
   ]
  },
  {
   "cell_type": "code",
   "execution_count": 5,
   "metadata": {},
   "outputs": [
    {
     "name": "stdout",
     "output_type": "stream",
     "text": [
      "                             productName  numCustomers\n",
      "0            1992 Ferrari 360 Spider red            40\n",
      "1                       Boeing X-32A JSF            27\n",
      "2                    1972 Alfa Romeo GTA            27\n",
      "3               1952 Alpine Renault 1300            27\n",
      "4                     1934 Ford V8 Coupe            27\n",
      "..                                   ...           ...\n",
      "104  1958 Chevy Corvette Limited Edition            19\n",
      "105                  2002 Chevy Corvette            18\n",
      "106            1969 Chevrolet Camaro Z28            18\n",
      "107                    1952 Citroen-15CV            18\n",
      "108                   1949 Jaguar XK 120            18\n",
      "\n",
      "[109 rows x 2 columns]\n"
     ]
    }
   ],
   "source": [
    "# Your code here\n",
    "# Hint: because one of the tables we'll be joining has duplicate customer numbers, you should use DISTINCT\n",
    "\n",
    "query = \"\"\"\n",
    "SELECT\n",
    "products.productName,\n",
    "COUNT(DISTINCT orders.customerNumber) AS numCustomers\n",
    "FROM\n",
    "products\n",
    "JOIN\n",
    "orderdetails ON products.productCode = orderdetails.productCode\n",
    "JOIN\n",
    "orders ON orderdetails.orderNumber = orders.orderNumber\n",
    "GROUP BY\n",
    "products.productName\n",
    "ORDER BY\n",
    "numCustomers DESC\n",
    "\"\"\"\n",
    "\n",
    "results = pd.read_sql_query(query, conn)\n",
    "\n",
    "print(results)"
   ]
  },
  {
   "cell_type": "markdown",
   "metadata": {},
   "source": [
    "## Select the Employee Number, First Name, Last Name, City (of the office), and Office Code of the Employees Who Sold Products That Have Been Ordered by Fewer Than 20 people.\n",
    "\n",
    "This problem is a bit tougher. To start, think about how you might break the problem up. Be sure that your results only list each employee once."
   ]
  },
  {
   "cell_type": "code",
   "execution_count": 7,
   "metadata": {},
   "outputs": [
    {
     "name": "stdout",
     "output_type": "stream",
     "text": [
      "No product codes found.\n"
     ]
    }
   ],
   "source": [
    "import pandas as pd\n",
    "\n",
    "# Step 1: Find the product codes for products that have been ordered by fewer than 20 people\n",
    "subquery_1 = \"\"\"\n",
    "    SELECT DISTINCT productCode\n",
    "    FROM orderdetails\n",
    "    GROUP BY productCode\n",
    "    HAVING COUNT(DISTINCT orderNumber) < 20\n",
    "\"\"\"\n",
    "product_codes = pd.read_sql_query(subquery_1, conn)\n",
    "\n",
    "if len(product_codes) > 0:\n",
    "    # Step 2: Find the order numbers associated with the product codes from Step 1\n",
    "    subquery_2 = \"\"\"\n",
    "        SELECT DISTINCT orderNumber\n",
    "        FROM orderdetails\n",
    "        WHERE productCode IN ({})\n",
    "    \"\"\".format(\", \".join(map(str, product_codes['productCode'])))\n",
    "    order_numbers = pd.read_sql_query(subquery_2, conn)\n",
    "\n",
    "    if len(order_numbers) > 0:\n",
    "        # Step 3: Find the employee numbers associated with the orders from Step 2\n",
    "        subquery_3 = \"\"\"\n",
    "            SELECT DISTINCT employeeNumber\n",
    "            FROM orders\n",
    "            WHERE orderNumber IN ({})\n",
    "        \"\"\".format(\", \".join(map(str, order_numbers['orderNumber'])))\n",
    "        employee_numbers = pd.read_sql_query(subquery_3, conn)\n",
    "\n",
    "        if len(employee_numbers) > 0:\n",
    "            # Step 4: Retrieve the employee details for the employee numbers from Step 3\n",
    "            main_query = \"\"\"\n",
    "                SELECT\n",
    "                    e.employeeNumber,\n",
    "                    e.firstName,\n",
    "                    e.lastName,\n",
    "                    o.city,\n",
    "                    o.officeCode\n",
    "                FROM\n",
    "                    employees e\n",
    "                JOIN\n",
    "                    offices o ON e.officeCode = o.officeCode\n",
    "                WHERE\n",
    "                    e.employeeNumber IN ({})\n",
    "            \"\"\".format(\", \".join(map(str, employee_numbers['employeeNumber'])))\n",
    "            result = pd.read_sql_query(main_query, conn)\n",
    "\n",
    "            # Display the result\n",
    "            print(result)\n",
    "        else:\n",
    "            print(\"No employees found.\")\n",
    "    else:\n",
    "        print(\"No order numbers found.\")\n",
    "else:\n",
    "    print(\"No product codes found.\")\n"
   ]
  },
  {
   "cell_type": "markdown",
   "metadata": {},
   "source": [
    "## Select the Employee Number, First Name, Last Name, and Number of Customers for Employees Whose Customers Have an Average Credit Limit Over 15K"
   ]
  },
  {
   "cell_type": "code",
   "execution_count": 8,
   "metadata": {},
   "outputs": [
    {
     "name": "stdout",
     "output_type": "stream",
     "text": [
      "    employeeNumber firstName   lastName  numberOfCustomers\n",
      "0             1165    Leslie   Jennings                  6\n",
      "1             1166    Leslie   Thompson                  6\n",
      "2             1188     Julie   Firrelli                  6\n",
      "3             1216     Steve  Patterson                  6\n",
      "4             1286  Foon Yue      Tseng                  7\n",
      "5             1323    George     Vanauf                  8\n",
      "6             1337      Loui     Bondur                  6\n",
      "7             1370    Gerard  Hernandez                  7\n",
      "8             1401    Pamela   Castillo                 10\n",
      "9             1501     Larry       Bott                  8\n",
      "10            1504     Barry      Jones                  9\n",
      "11            1611      Andy     Fixter                  5\n",
      "12            1612     Peter      Marsh                  5\n",
      "13            1621      Mami      Nishi                  5\n",
      "14            1702    Martin     Gerard                  6\n"
     ]
    }
   ],
   "source": [
    "\n",
    "# Query to retrieve the employee details and count of customers\n",
    "query = \"\"\"\n",
    "    SELECT\n",
    "        e.employeeNumber,\n",
    "        e.firstName,\n",
    "        e.lastName,\n",
    "        COUNT(c.customerNumber) AS numberOfCustomers\n",
    "    FROM\n",
    "        employees e\n",
    "    JOIN\n",
    "        customers c ON e.employeeNumber = c.salesRepEmployeeNumber\n",
    "    GROUP BY\n",
    "        e.employeeNumber,\n",
    "        e.firstName,\n",
    "        e.lastName\n",
    "    HAVING\n",
    "        AVG(c.creditLimit) > 15000\n",
    "\"\"\"\n",
    "\n",
    "# Execute the query and fetch the result\n",
    "result = pd.read_sql_query(query, conn)\n",
    "\n",
    "# Display the result\n",
    "print(result)\n"
   ]
  },
  {
   "cell_type": "code",
   "execution_count": 9,
   "metadata": {},
   "outputs": [],
   "source": [
    "conn.commit()"
   ]
  },
  {
   "cell_type": "code",
   "execution_count": 10,
   "metadata": {},
   "outputs": [],
   "source": [
    "conn.close()"
   ]
  },
  {
   "cell_type": "markdown",
   "metadata": {},
   "source": [
    "## Summary\n",
    "\n",
    "In this lesson, you got to practice some more complex SQL queries, some of which required subqueries. There's still plenty more SQL to be had though; hope you've been enjoying some of these puzzles!"
   ]
  }
 ],
 "metadata": {
  "kernelspec": {
   "display_name": "saturn (Python 3)",
   "language": "python",
   "name": "python3"
  },
  "language_info": {
   "codemirror_mode": {
    "name": "ipython",
    "version": 3
   },
   "file_extension": ".py",
   "mimetype": "text/x-python",
   "name": "python",
   "nbconvert_exporter": "python",
   "pygments_lexer": "ipython3",
   "version": "3.10.6"
  },
  "toc": {
   "base_numbering": 1,
   "nav_menu": {},
   "number_sections": true,
   "sideBar": true,
   "skip_h1_title": false,
   "title_cell": "Table of Contents",
   "title_sidebar": "Contents",
   "toc_cell": false,
   "toc_position": {},
   "toc_section_display": true,
   "toc_window_display": false
  }
 },
 "nbformat": 4,
 "nbformat_minor": 2
}
